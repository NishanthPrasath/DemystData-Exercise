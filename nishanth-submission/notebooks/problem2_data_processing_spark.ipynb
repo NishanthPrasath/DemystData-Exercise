{
 "cells": [
  {
   "cell_type": "markdown",
   "metadata": {
    "application/vnd.databricks.v1+cell": {
     "cellMetadata": {},
     "inputWidgets": {},
     "nuid": "d912b843-218d-47cb-a07f-aabbc65627a9",
     "showTitle": false,
     "title": ""
    }
   },
   "source": [
    "## Data Anonymization"
   ]
  },
  {
   "cell_type": "markdown",
   "metadata": {
    "application/vnd.databricks.v1+cell": {
     "cellMetadata": {},
     "inputWidgets": {},
     "nuid": "e55cf298-a5aa-47d3-8a51-1bac73d1a78f",
     "showTitle": false,
     "title": ""
    }
   },
   "source": [
    "Importing required libraries"
   ]
  },
  {
   "cell_type": "code",
   "execution_count": 0,
   "metadata": {
    "application/vnd.databricks.v1+cell": {
     "cellMetadata": {
      "byteLimit": 2048000,
      "rowLimit": 10000
     },
     "inputWidgets": {},
     "nuid": "08e44b5f-bc5f-42b9-9623-fa649f415fdb",
     "showTitle": false,
     "title": ""
    }
   },
   "outputs": [],
   "source": [
    "from pyspark.sql import SparkSession\n",
    "from pyspark.sql.functions import col, sha2"
   ]
  },
  {
   "cell_type": "markdown",
   "metadata": {
    "application/vnd.databricks.v1+cell": {
     "cellMetadata": {},
     "inputWidgets": {},
     "nuid": "b2155fa7-0b27-407b-9390-67bc90a83124",
     "showTitle": false,
     "title": ""
    }
   },
   "source": [
    "Creating a Spark session to work with Databricks"
   ]
  },
  {
   "cell_type": "code",
   "execution_count": 0,
   "metadata": {
    "application/vnd.databricks.v1+cell": {
     "cellMetadata": {
      "byteLimit": 2048000,
      "rowLimit": 10000
     },
     "inputWidgets": {},
     "nuid": "51c3ca2a-d8d2-4818-9a96-f047e73eaafb",
     "showTitle": false,
     "title": ""
    }
   },
   "outputs": [],
   "source": [
    "spark = SparkSession.builder.appName(\"DataAnonymizer\").getOrCreate()"
   ]
  },
  {
   "cell_type": "markdown",
   "metadata": {
    "application/vnd.databricks.v1+cell": {
     "cellMetadata": {},
     "inputWidgets": {},
     "nuid": "bcfc1f76-69f2-410e-8b68-8c38c622af6e",
     "showTitle": false,
     "title": ""
    }
   },
   "source": [
    "Loading the input CSV file into a DataFrame"
   ]
  },
  {
   "cell_type": "code",
   "execution_count": 0,
   "metadata": {
    "application/vnd.databricks.v1+cell": {
     "cellMetadata": {
      "byteLimit": 2048000,
      "rowLimit": 10000
     },
     "inputWidgets": {},
     "nuid": "09786022-a41f-4a10-afd7-50479b4bec9a",
     "showTitle": false,
     "title": ""
    }
   },
   "outputs": [
    {
     "output_type": "stream",
     "name": "stdout",
     "output_type": "stream",
     "text": [
      "Input DataFrame schema: StructType([StructField('first_name', StringType(), True), StructField('last_name', StringType(), True), StructField('address', StringType(), True), StructField('date_of_birth', DateType(), True)])\n"
     ]
    }
   ],
   "source": [
    "input_csv_path = '/FileStore/tables/personal_info.csv'\n",
    "\n",
    "input_df = spark.read.csv(input_csv_path, header=True, inferSchema=True)\n",
    "print(f\"Input DataFrame schema: {input_df.schema}\")"
   ]
  },
  {
   "cell_type": "markdown",
   "metadata": {
    "application/vnd.databricks.v1+cell": {
     "cellMetadata": {},
     "inputWidgets": {},
     "nuid": "0c6b7ba7-71b8-4adf-bbab-8f10f33f8e9d",
     "showTitle": false,
     "title": ""
    }
   },
   "source": [
    "Anonymizing the columns using SHA-256 hashing"
   ]
  },
  {
   "cell_type": "code",
   "execution_count": 0,
   "metadata": {
    "application/vnd.databricks.v1+cell": {
     "cellMetadata": {
      "byteLimit": 2048000,
      "rowLimit": 10000
     },
     "inputWidgets": {},
     "nuid": "34d4f14f-e700-41e7-bf10-236e0423d093",
     "showTitle": false,
     "title": ""
    }
   },
   "outputs": [],
   "source": [
    "def anonymize_columns(df, columns_to_anonymize):\n",
    "    new_columns = []\n",
    "    for column_name in df.columns:\n",
    "        if column_name in columns_to_anonymize:\n",
    "            new_columns.append(sha2(col(column_name), 256).alias(column_name))\n",
    "        else:\n",
    "            new_columns.append(col(column_name))\n",
    "    anonymized_df = df.select(*new_columns)\n",
    "    return anonymized_df"
   ]
  },
  {
   "cell_type": "markdown",
   "metadata": {
    "application/vnd.databricks.v1+cell": {
     "cellMetadata": {},
     "inputWidgets": {},
     "nuid": "73d72a66-e6d8-4c63-b1a1-38fb460fab41",
     "showTitle": false,
     "title": ""
    }
   },
   "source": [
    "Performing Data Anonymization to the input DataFrame"
   ]
  },
  {
   "cell_type": "code",
   "execution_count": 0,
   "metadata": {
    "application/vnd.databricks.v1+cell": {
     "cellMetadata": {
      "byteLimit": 2048000,
      "rowLimit": 10000
     },
     "inputWidgets": {},
     "nuid": "23f8b23c-843b-47e1-8fcb-9816cc849eb8",
     "showTitle": false,
     "title": ""
    }
   },
   "outputs": [
    {
     "output_type": "stream",
     "name": "stdout",
     "output_type": "stream",
     "text": [
      "Data anonymization completed\n"
     ]
    }
   ],
   "source": [
    "anonymization_columns = [\"first_name\", \"last_name\", \"address\"]\n",
    "\n",
    "anonymized_df = anonymize_columns(input_df, anonymization_columns)\n",
    "print(\"Data anonymization completed\")"
   ]
  },
  {
   "cell_type": "markdown",
   "metadata": {
    "application/vnd.databricks.v1+cell": {
     "cellMetadata": {},
     "inputWidgets": {},
     "nuid": "8b9936a9-fb92-4f97-bdf4-1ec789a1638f",
     "showTitle": false,
     "title": ""
    }
   },
   "source": [
    "Saving the anonymized DataFrame as a CSV file"
   ]
  },
  {
   "cell_type": "code",
   "execution_count": 0,
   "metadata": {
    "application/vnd.databricks.v1+cell": {
     "cellMetadata": {
      "byteLimit": 2048000,
      "rowLimit": 10000
     },
     "inputWidgets": {},
     "nuid": "5481e92f-fba3-4f24-b1c4-2a88203315ce",
     "showTitle": false,
     "title": ""
    }
   },
   "outputs": [
    {
     "output_type": "stream",
     "name": "stdout",
     "output_type": "stream",
     "text": [
      "Anonymized data written to /FileStore/tables/anonymized_personal_info.csv\n"
     ]
    }
   ],
   "source": [
    "output_file_path = '/FileStore/tables/anonymized_personal_info.csv'\n",
    "\n",
    "anonymized_df.write.csv(output_file_path, header=True, mode=\"overwrite\")\n",
    "print(f\"Anonymized data written to {output_file_path}\")"
   ]
  },
  {
   "cell_type": "markdown",
   "metadata": {
    "application/vnd.databricks.v1+cell": {
     "cellMetadata": {},
     "inputWidgets": {},
     "nuid": "fb5b36e5-6784-4609-807d-5961229f69bb",
     "showTitle": false,
     "title": ""
    }
   },
   "source": [
    "Here is a sample of the anonymized DataFrame"
   ]
  },
  {
   "cell_type": "code",
   "execution_count": 0,
   "metadata": {
    "application/vnd.databricks.v1+cell": {
     "cellMetadata": {
      "byteLimit": 2048000,
      "rowLimit": 10000
     },
     "inputWidgets": {},
     "nuid": "dc86e566-0582-4282-84a4-39c380286418",
     "showTitle": false,
     "title": ""
    }
   },
   "outputs": [
    {
     "output_type": "display_data",
     "data": {
      "text/html": [
       "<style scoped>\n",
       "  .table-result-container {\n",
       "    max-height: 300px;\n",
       "    overflow: auto;\n",
       "  }\n",
       "  table, th, td {\n",
       "    border: 1px solid black;\n",
       "    border-collapse: collapse;\n",
       "  }\n",
       "  th, td {\n",
       "    padding: 5px;\n",
       "  }\n",
       "  th {\n",
       "    text-align: left;\n",
       "  }\n",
       "</style><div class='table-result-container'><table class='table-result'><thead style='background-color: white'><tr><th>first_name</th><th>last_name</th><th>address</th><th>date_of_birth</th></tr></thead><tbody><tr><td>1f02e917fd21530620990a81a8ddce4a8cb1f0e57770e393877e4a68a2984ff8</td><td>d9e1b51ac9805a3979ca7c91a3c612b2d5875949c994c5c0bc07947886b76eed</td><td>e4c458ae39b73eccd872fc1f49f857ff0dc527841e0b19aa7d8a845d54439e3e</td><td>1936-04-15</td></tr><tr><td>c10873196eb1124ed74461c20a67094e395f2310f6305607b9694ee6b1ee8b43</td><td>716545ea5827317b597b9f531b753bb931989bbe63df4307ef312fdb7374a154</td><td>1d0bc6d0b1f43d58111f7fb9f47d647ea1a6e404631279f1be79ef748ddda451</td><td>1953-07-10</td></tr><tr><td>eb1c72f5eb3dcae8286a919f6e9de3b0e707d30ad34551d08191e90f5080c374</td><td>818d0e5ffae3c30dfbe68dbb57896728bc1598d0094467bb378db4cb21a1774c</td><td>6063dd720b5db675d607ed7f56460d26c81407e349726c76a70f5e50afc75c1f</td><td>1965-10-25</td></tr><tr><td>2482517c61352f9578a40d4a8d34e5bf8509286247d32f69522d01cf9c0f24a6</td><td>fb7961d139e4da12af18c24571a166fb77c391a15abbf24d6ccf85186f441bbe</td><td>41bad2028983258e1e449786f8f62f909e603693c8a7400c93909b4a4e57e6ba</td><td>1953-03-23</td></tr><tr><td>6b7ee845d7c19c63f9729f3027128d6f6628dba34ec83d26e4e56b4670d7c2ff</td><td>4b48c39df4ae16d3202399ef9fbbfc4324d40440b4229893446e2ad49b2fa240</td><td>7fd63083c8e58f822822abda2c64be7f9e14e7a1b2890269c46d70d27017f208</td><td>1965-02-15</td></tr><tr><td>f9ae2dd68d4e4062a6e30ff5fbc773d1da24ac517de97f902ef85a918d86f05c</td><td>f58e4a64909caaa56bfb6c1f5bc5e5ffe98345f52a8233c47a7b7e1b4d9ed1ec</td><td>95e80701a725dc54d35422cb656e843c3d54a68e443bef622405944e54fa9deb</td><td>1979-08-09</td></tr><tr><td>5dfcf9ef1fb1ecbce32fefe37ae99aff68832a7e2ac74f52daa5a1bcd8038118</td><td>77217fd1834f951c2ac9a08ff64710a8940c3ce988fb5901b1dc85111abda3c2</td><td>ce2446cf8b35c4f4d0da5bf072696bcae56efc449b0ce322f45398d6888eeb4f</td><td>1959-03-13</td></tr><tr><td>893b1f8fc0fcc0587bb2f02fa8df1ca3039b9c8deae23935b6b3243e97e857a0</td><td>e20cc86f4bd18090703dd9fa530816d7a073dd7c543d259bf734a659abd58523</td><td>54eabb20e0743c61ce538d5337e93c0ed39114ee63b2e3d9a5ba9b6da4547973</td><td>1966-01-27</td></tr><tr><td>2fcc60c2ab3be068dc8bfa79d2431e62343435aaabb3ae8c45ae845306623b84</td><td>4d7b2cc54157ab5d6d894514924ebacdea5433898fde0ba516bc9c53e5a8f8a2</td><td>93291e3c7fd1bcd20fd2a430510ca4811a91de91ee1299f7f614654c84925d10</td><td>1956-08-11</td></tr><tr><td>ae42f8390d896d3e355315efe08fef67c64fdca09ec0152b88bef9499c9f3c11</td><td>502ae197407d7228d7b23234763529027e1da6a441301a6f6f405cdc62225208</td><td>e8cc9ce5089ad3b2af90e2b16647db065ad85c51dbdfb3ce0cfdbfcf9c352846</td><td>1963-10-27</td></tr><tr><td>fdc888d547f361a89aad1b88a9bd1829ec760d2ed106a17fd9140905244f77e1</td><td>3e83015291ee9a5c218e0ed6f7b6e42fbcda34acea9f7504f2028f3f42eef53e</td><td>07ff2dc32ef14188342b99f2a877b5d83a910311fe020f97b0fb75e6f8fb4341</td><td>1953-02-04</td></tr><tr><td>cebfacd7a17cd5538597bf834984ef312da42f8d97f20551b82f97980259ecdc</td><td>95c5dd81e14a7113b7804f53ab2dc715bd141c55db0b4f4ffcdc28a66fda42ea</td><td>ace959def6670111b419651760c31026fef9202bf7268348bf105402c3cfabfd</td><td>1955-02-18</td></tr><tr><td>2aba5dd8596b2dc0a86cc0fd514986ef09f279ee4cda6416ffa2dc51f2ed047e</td><td>d486dfbd5fb578340bccbdd0a662527eab38550648d5f44517e5ac71b8824703</td><td>e16f6ff43d47711e07875d54fdb8322e5add6cb128837253b2b828be36b41b5e</td><td>1934-11-20</td></tr><tr><td>cb14bf5073ebaf6d9d04b63164b7017b2011d3558fb2f80f9450c9f5de6f6de8</td><td>00a1fb196513ceec3ad82300f6d3b48279ed7a1e0e1c0106bc835b07e44b4268</td><td>fe57873a310d31f23f9aeb112fcaed02fcce0d7ade2da8c5a5d397bb616a45ad</td><td>1993-07-11</td></tr><tr><td>248715109e6a2d0c23343a5dda82be162326e4715ec69bb8f24755848739d910</td><td>28d4940f01bb134fe3324a78d6362d9b718a9756fb416978025db8c45cbf48cc</td><td>10dcaad7c8bb3977990f4c9a4d506c19f42afc765e099c48964f2c7380e2eac7</td><td>1990-10-13</td></tr><tr><td>58f909ed9fa151224fc51dcd31f0948d9f4650951cb0aaa4c0ec1bc1e20b49e8</td><td>7e6046c9a27718b278cdfae39ab45bbd53980c06267516e31e1a4423a555b5bf</td><td>4865ebde92be67dc83113839e81a64d3c67053ba8b15ce8a73c93b981be2dfd9</td><td>1956-01-08</td></tr><tr><td>c1144dfca7ce1f5d8311ba7566a3cbcc7f553025a03e5df6a61b0f17d49451bd</td><td>fef1114f2d1a5bf56f5d8f442cace951a500462c337a4f3992a9767128bf31a5</td><td>946902e18afd0413aeb0333c56fb345451809fe935fc4aba8af65f79e31654d3</td><td>1934-06-17</td></tr><tr><td>f3b46c145f69a06b8071dc1339081ce4923ee5f5ef55af2e5749ee1380c007ae</td><td>fe16a94194b3857b569579be460d2079ebcb36e9b8b03649191a92e8b0fe35c9</td><td>2c9d5cf48969cd384da2faa255df0f34161c202a5422b8648795d20eb73e2c7a</td><td>1978-06-11</td></tr><tr><td>907814bbbc15ea0ddb864ae1974e9fb43dac6dc588f62c6550c01c5b73c2098e</td><td>c2793b826cc96e7fe5bd695d00af187d2d9b5e4e0bfe7619c041d8f6f4972362</td><td>738c65c8374f455126388bff6b5772311408328f3870fa58fbc24109818fa7fe</td><td>1964-01-16</td></tr><tr><td>1373cf56c2484091640da4ab625726041f3548470ec8a6efbf0b2e01708d7a8c</td><td>ee01fa3ba9787476d7941eee2d29bc9a7ba94b14318a605eea8194de6b28470d</td><td>c0863272517e01fe8a8425e90cd325ea16d801eb8cdb65459f57c49979cc33fe</td><td>1958-05-19</td></tr><tr><td>9ff18ebe7449349f358e3af0b57cf7a032c1c6b2272cb2656ff85eb112232f16</td><td>8d9e297189b3b4a4437c4194c0915c5ffef628a05ffdd270110ba9075debdd68</td><td>ac8edb225f6740f9d484d2d541e7d42de1c03892dc9df25e86181ac2ebf5f37c</td><td>1980-12-04</td></tr><tr><td>ae42f8390d896d3e355315efe08fef67c64fdca09ec0152b88bef9499c9f3c11</td><td>5314cc5ec1a0215a41076678d785b45be431871a1a602397e32fb29799b294bb</td><td>c370c2e5cd0838f02ae0b9a66324085f9541a6685b33bbe56e4adcd8ae3b7305</td><td>2000-02-11</td></tr><tr><td>c10873196eb1124ed74461c20a67094e395f2310f6305607b9694ee6b1ee8b43</td><td>1cd8e5f4826e1e694b14ca74ea2f39975dbdfc9ab93b47a7ae7889144c5bc36b</td><td>80a99d4b9a44e4ea878a860e48e89738c5a05390e92a831b0254fd0683347c50</td><td>1993-10-27</td></tr><tr><td>df4b16b6faef60e2d973ec9373d5a0c7565137e2822a8b4839b26b0a172e795d</td><td>b1f74ef7ff3e7dfa1a0541915e18edfc067a1bc7f90ab179c078e30e123ec3bb</td><td>c7d42537a1fa75411907700a9d0782651f2213d3697a1611c56a8844f3e74f56</td><td>1986-02-23</td></tr><tr><td>6dd8b7d7d3c5c4689b33e51b9f10bc6a9be89fe8fa2a127c8c6c03cd05d68ace</td><td>503046646e0c61a5fe27c74a0da0aea7affe2c6a6cc1c77d42241db9e77d0716</td><td>6625c124804e2f306351f8326d4db4f8a19678f2f815c9f6d6659a040be1b404</td><td>1975-11-01</td></tr></tbody></table></div>"
      ]
     },
     "metadata": {
      "application/vnd.databricks.v1+output": {
       "addedWidgets": {},
       "aggData": [],
       "aggError": "",
       "aggOverflow": false,
       "aggSchema": [],
       "aggSeriesLimitReached": false,
       "aggType": "",
       "arguments": {},
       "columnCustomDisplayInfos": {},
       "data": [
        [
         "1f02e917fd21530620990a81a8ddce4a8cb1f0e57770e393877e4a68a2984ff8",
         "d9e1b51ac9805a3979ca7c91a3c612b2d5875949c994c5c0bc07947886b76eed",
         "e4c458ae39b73eccd872fc1f49f857ff0dc527841e0b19aa7d8a845d54439e3e",
         "1936-04-15"
        ],
        [
         "c10873196eb1124ed74461c20a67094e395f2310f6305607b9694ee6b1ee8b43",
         "716545ea5827317b597b9f531b753bb931989bbe63df4307ef312fdb7374a154",
         "1d0bc6d0b1f43d58111f7fb9f47d647ea1a6e404631279f1be79ef748ddda451",
         "1953-07-10"
        ],
        [
         "eb1c72f5eb3dcae8286a919f6e9de3b0e707d30ad34551d08191e90f5080c374",
         "818d0e5ffae3c30dfbe68dbb57896728bc1598d0094467bb378db4cb21a1774c",
         "6063dd720b5db675d607ed7f56460d26c81407e349726c76a70f5e50afc75c1f",
         "1965-10-25"
        ],
        [
         "2482517c61352f9578a40d4a8d34e5bf8509286247d32f69522d01cf9c0f24a6",
         "fb7961d139e4da12af18c24571a166fb77c391a15abbf24d6ccf85186f441bbe",
         "41bad2028983258e1e449786f8f62f909e603693c8a7400c93909b4a4e57e6ba",
         "1953-03-23"
        ],
        [
         "6b7ee845d7c19c63f9729f3027128d6f6628dba34ec83d26e4e56b4670d7c2ff",
         "4b48c39df4ae16d3202399ef9fbbfc4324d40440b4229893446e2ad49b2fa240",
         "7fd63083c8e58f822822abda2c64be7f9e14e7a1b2890269c46d70d27017f208",
         "1965-02-15"
        ],
        [
         "f9ae2dd68d4e4062a6e30ff5fbc773d1da24ac517de97f902ef85a918d86f05c",
         "f58e4a64909caaa56bfb6c1f5bc5e5ffe98345f52a8233c47a7b7e1b4d9ed1ec",
         "95e80701a725dc54d35422cb656e843c3d54a68e443bef622405944e54fa9deb",
         "1979-08-09"
        ],
        [
         "5dfcf9ef1fb1ecbce32fefe37ae99aff68832a7e2ac74f52daa5a1bcd8038118",
         "77217fd1834f951c2ac9a08ff64710a8940c3ce988fb5901b1dc85111abda3c2",
         "ce2446cf8b35c4f4d0da5bf072696bcae56efc449b0ce322f45398d6888eeb4f",
         "1959-03-13"
        ],
        [
         "893b1f8fc0fcc0587bb2f02fa8df1ca3039b9c8deae23935b6b3243e97e857a0",
         "e20cc86f4bd18090703dd9fa530816d7a073dd7c543d259bf734a659abd58523",
         "54eabb20e0743c61ce538d5337e93c0ed39114ee63b2e3d9a5ba9b6da4547973",
         "1966-01-27"
        ],
        [
         "2fcc60c2ab3be068dc8bfa79d2431e62343435aaabb3ae8c45ae845306623b84",
         "4d7b2cc54157ab5d6d894514924ebacdea5433898fde0ba516bc9c53e5a8f8a2",
         "93291e3c7fd1bcd20fd2a430510ca4811a91de91ee1299f7f614654c84925d10",
         "1956-08-11"
        ],
        [
         "ae42f8390d896d3e355315efe08fef67c64fdca09ec0152b88bef9499c9f3c11",
         "502ae197407d7228d7b23234763529027e1da6a441301a6f6f405cdc62225208",
         "e8cc9ce5089ad3b2af90e2b16647db065ad85c51dbdfb3ce0cfdbfcf9c352846",
         "1963-10-27"
        ],
        [
         "fdc888d547f361a89aad1b88a9bd1829ec760d2ed106a17fd9140905244f77e1",
         "3e83015291ee9a5c218e0ed6f7b6e42fbcda34acea9f7504f2028f3f42eef53e",
         "07ff2dc32ef14188342b99f2a877b5d83a910311fe020f97b0fb75e6f8fb4341",
         "1953-02-04"
        ],
        [
         "cebfacd7a17cd5538597bf834984ef312da42f8d97f20551b82f97980259ecdc",
         "95c5dd81e14a7113b7804f53ab2dc715bd141c55db0b4f4ffcdc28a66fda42ea",
         "ace959def6670111b419651760c31026fef9202bf7268348bf105402c3cfabfd",
         "1955-02-18"
        ],
        [
         "2aba5dd8596b2dc0a86cc0fd514986ef09f279ee4cda6416ffa2dc51f2ed047e",
         "d486dfbd5fb578340bccbdd0a662527eab38550648d5f44517e5ac71b8824703",
         "e16f6ff43d47711e07875d54fdb8322e5add6cb128837253b2b828be36b41b5e",
         "1934-11-20"
        ],
        [
         "cb14bf5073ebaf6d9d04b63164b7017b2011d3558fb2f80f9450c9f5de6f6de8",
         "00a1fb196513ceec3ad82300f6d3b48279ed7a1e0e1c0106bc835b07e44b4268",
         "fe57873a310d31f23f9aeb112fcaed02fcce0d7ade2da8c5a5d397bb616a45ad",
         "1993-07-11"
        ],
        [
         "248715109e6a2d0c23343a5dda82be162326e4715ec69bb8f24755848739d910",
         "28d4940f01bb134fe3324a78d6362d9b718a9756fb416978025db8c45cbf48cc",
         "10dcaad7c8bb3977990f4c9a4d506c19f42afc765e099c48964f2c7380e2eac7",
         "1990-10-13"
        ],
        [
         "58f909ed9fa151224fc51dcd31f0948d9f4650951cb0aaa4c0ec1bc1e20b49e8",
         "7e6046c9a27718b278cdfae39ab45bbd53980c06267516e31e1a4423a555b5bf",
         "4865ebde92be67dc83113839e81a64d3c67053ba8b15ce8a73c93b981be2dfd9",
         "1956-01-08"
        ],
        [
         "c1144dfca7ce1f5d8311ba7566a3cbcc7f553025a03e5df6a61b0f17d49451bd",
         "fef1114f2d1a5bf56f5d8f442cace951a500462c337a4f3992a9767128bf31a5",
         "946902e18afd0413aeb0333c56fb345451809fe935fc4aba8af65f79e31654d3",
         "1934-06-17"
        ],
        [
         "f3b46c145f69a06b8071dc1339081ce4923ee5f5ef55af2e5749ee1380c007ae",
         "fe16a94194b3857b569579be460d2079ebcb36e9b8b03649191a92e8b0fe35c9",
         "2c9d5cf48969cd384da2faa255df0f34161c202a5422b8648795d20eb73e2c7a",
         "1978-06-11"
        ],
        [
         "907814bbbc15ea0ddb864ae1974e9fb43dac6dc588f62c6550c01c5b73c2098e",
         "c2793b826cc96e7fe5bd695d00af187d2d9b5e4e0bfe7619c041d8f6f4972362",
         "738c65c8374f455126388bff6b5772311408328f3870fa58fbc24109818fa7fe",
         "1964-01-16"
        ],
        [
         "1373cf56c2484091640da4ab625726041f3548470ec8a6efbf0b2e01708d7a8c",
         "ee01fa3ba9787476d7941eee2d29bc9a7ba94b14318a605eea8194de6b28470d",
         "c0863272517e01fe8a8425e90cd325ea16d801eb8cdb65459f57c49979cc33fe",
         "1958-05-19"
        ],
        [
         "9ff18ebe7449349f358e3af0b57cf7a032c1c6b2272cb2656ff85eb112232f16",
         "8d9e297189b3b4a4437c4194c0915c5ffef628a05ffdd270110ba9075debdd68",
         "ac8edb225f6740f9d484d2d541e7d42de1c03892dc9df25e86181ac2ebf5f37c",
         "1980-12-04"
        ],
        [
         "ae42f8390d896d3e355315efe08fef67c64fdca09ec0152b88bef9499c9f3c11",
         "5314cc5ec1a0215a41076678d785b45be431871a1a602397e32fb29799b294bb",
         "c370c2e5cd0838f02ae0b9a66324085f9541a6685b33bbe56e4adcd8ae3b7305",
         "2000-02-11"
        ],
        [
         "c10873196eb1124ed74461c20a67094e395f2310f6305607b9694ee6b1ee8b43",
         "1cd8e5f4826e1e694b14ca74ea2f39975dbdfc9ab93b47a7ae7889144c5bc36b",
         "80a99d4b9a44e4ea878a860e48e89738c5a05390e92a831b0254fd0683347c50",
         "1993-10-27"
        ],
        [
         "df4b16b6faef60e2d973ec9373d5a0c7565137e2822a8b4839b26b0a172e795d",
         "b1f74ef7ff3e7dfa1a0541915e18edfc067a1bc7f90ab179c078e30e123ec3bb",
         "c7d42537a1fa75411907700a9d0782651f2213d3697a1611c56a8844f3e74f56",
         "1986-02-23"
        ],
        [
         "6dd8b7d7d3c5c4689b33e51b9f10bc6a9be89fe8fa2a127c8c6c03cd05d68ace",
         "503046646e0c61a5fe27c74a0da0aea7affe2c6a6cc1c77d42241db9e77d0716",
         "6625c124804e2f306351f8326d4db4f8a19678f2f815c9f6d6659a040be1b404",
         "1975-11-01"
        ]
       ],
       "datasetInfos": [],
       "dbfsResultPath": null,
       "isJsonSchema": true,
       "metadata": {},
       "overflow": false,
       "plotOptions": {
        "customPlotOptions": {},
        "displayType": "table",
        "pivotAggregation": null,
        "pivotColumns": null,
        "xColumns": null,
        "yColumns": null
       },
       "removedWidgets": [],
       "schema": [
        {
         "metadata": "{}",
         "name": "first_name",
         "type": "\"string\""
        },
        {
         "metadata": "{}",
         "name": "last_name",
         "type": "\"string\""
        },
        {
         "metadata": "{}",
         "name": "address",
         "type": "\"string\""
        },
        {
         "metadata": "{\"__detected_date_formats\":\"yyyy-M-d\"}",
         "name": "date_of_birth",
         "type": "\"date\""
        }
       ],
       "type": "table"
      }
     },
     "output_type": "display_data"
    }
   ],
   "source": [
    "display(anonymized_df.limit(25))"
   ]
  },
  {
   "cell_type": "markdown",
   "metadata": {
    "application/vnd.databricks.v1+cell": {
     "cellMetadata": {},
     "inputWidgets": {},
     "nuid": "96cfcf50-3db3-4391-a954-0467ff6d52bd",
     "showTitle": false,
     "title": ""
    }
   },
   "source": []
  }
 ],
 "metadata": {
  "application/vnd.databricks.v1+notebook": {
   "dashboards": [],
   "environmentMetadata": null,
   "language": "python",
   "notebookMetadata": {
    "pythonIndentUnit": 4
   },
   "notebookName": "problem2_data_processing_spark",
   "widgets": {}
  }
 },
 "nbformat": 4,
 "nbformat_minor": 0
}
